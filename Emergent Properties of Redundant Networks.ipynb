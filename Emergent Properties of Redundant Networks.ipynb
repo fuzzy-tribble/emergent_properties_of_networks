{
 "cells": [
  {
   "cell_type": "markdown",
   "metadata": {
    "Collapsed": "false"
   },
   "source": [
    "# Emergent Properties of Redundant Networks\n",
    "\n",
    "Biological neural networks have high degrees of redundancy and variable interconnectedness. These features remain mostly absent from the artificial networks (anns) that are used today in many prediction problems. The properties that emerge from multiple networks having varying degrees of interconnectedness and control over a system (like the heartbeat, breathing, etc) could be the basis of the human's ability to observe and define a \"self\" or what many call consciousness. I am curious about the emergent properties of anns when we set them up this way."
   ]
  },
  {
   "cell_type": "markdown",
   "metadata": {
    "Collapsed": "false"
   },
   "source": [
    "## Background"
   ]
  },
  {
   "cell_type": "markdown",
   "metadata": {
    "Collapsed": "false"
   },
   "source": [
    "**Evolutionary Considerations of the Brain**\n",
    "TODO\n",
    "\n",
    "**Emergence of the \"self\" (ie. consciousness)**\n",
    "TODO - note that the ability to observe other networks and how they are controling systems plays a key role in our ability to step back and observe our \"self\".\n",
    "\n",
    "- The Symbolic Species: The Co-evolution of Language and the Brain by Terrence W. Deacon\n",
    "- Incomplete Nature: How Mind Emerged from Matter by Terrence W. Deacon\n",
    "\n",
    "**Note on GANNs**\n",
    "TODO--note the similarities with GANNs and multi-discriminators"
   ]
  },
  {
   "cell_type": "markdown",
   "metadata": {
    "Collapsed": "false"
   },
   "source": [
    "## Experimental Overview"
   ]
  },
  {
   "cell_type": "markdown",
   "metadata": {
    "Collapsed": "false"
   },
   "source": [
    "Use [PyTorch](https://pytorch.org/docs/stable/index.html) to build an ANN that controls a blinking light indirectly by feeding regulatory bits (stimulators or inhibitors) that change the frequency of blinking. Add additional ANNs that also regulate the same system simultaneously and can \"peek\" at the other networks weights and connections. "
   ]
  },
  {
   "cell_type": "markdown",
   "metadata": {
    "Collapsed": "false"
   },
   "source": [
    "## Experimental Setup"
   ]
  },
  {
   "cell_type": "markdown",
   "metadata": {
    "Collapsed": "false"
   },
   "source": [
    "### System Components\n",
    "\n",
    "VESSLE: The vessle consists of simple mechanical subsystems that are required for the vessle to function (like heartbeat, breathing, etc represented via blinking light) and others that are required for sensory input (like eyes, ears, etc)\n",
    "\n",
    "ANN_1: An ANN that is responsible for primary regulation; responsible for keeping the vessle alive (ie heart beating, breathing, etc.)\n",
    "\n",
    "ANN_2: An ANN that can exert a degree of control over systems in a vessle based on learned behavior, external stimulus and reward.\n",
    "\n",
    "ANN_3: An ANN that exert a degree of control over ANN_1 and ANN_2 networks; perhaps also the vessle?;"
   ]
  },
  {
   "cell_type": "markdown",
   "metadata": {
    "Collapsed": "false"
   },
   "source": [
    "### Co-Existance Behavioral Rules\n",
    "\n",
    "*VESSLE*\n",
    "* Subsystem_A: Blink - A standalone program that on boot blinks a light (like a heartbeat) based on inputs (regulatory bits); inputs are applied to increase or decrease beat frequency based on **type** and **quantity**; the program will die if the frequency gets higher than 100bpm or lower than 40bpm.\n",
    "\n",
    "* Subsystem_B: Visual - A program that on boot takes external input from a user that represent objects (like snake, tea, etc.) and sends the input to REP-NET to be processed.\n",
    "\n",
    "*REGULATORY NW1*\n",
    "* An ANN that is responsible for keeping the light blinking within a range. The release of regulatory bits that then control the frequency of the blinking light. \n",
    "\n",
    "Desired outcome: REG_NW1 learns the amount and type of regulatory bits to output in order to keep the light blinking within optimal steady frequency. The user should be able to jolt the blink or slow it down and the network should take it back to homeostasis. Perhaps also this nw could learn appropriate responses (increase HR when \"snake\", unchanged/decrease HR when teapot, for subsystem_B) are then slightly rewarded so that the network learns appropriate responses to objects.\n",
    "\n",
    "*REGULATORY NW2*\n",
    "TODO\n",
    "\n",
    "*REGULATORY NW3*\n",
    "TODO\n"
   ]
  },
  {
   "cell_type": "markdown",
   "metadata": {
    "Collapsed": "false"
   },
   "source": [
    "## Experimental Methods\n",
    "\n",
    "### Step 1 - Vessle and Subsystem (Design, Testing, and Integration)\n",
    "\n",
    "A) *Setup user interface* to show the vessle and its subsystems.\n",
    "\n",
    "B) *Add Blink Subsystem* that takes reg inputs to increase and decrease the frequency. The subsystem dies is the heartrate is ever out of range of 40 > FR > 200. If the HR program shutsdown, a failure/shutdown signal should be sent to all systems (incl. networks)\n",
    "\n",
    "C) *Add Visual Subsystem* that takes an external input (descriptor and/or word) and sends it to REG-NET1/2?\n",
    "\n",
    "### Step 2 - REG-NET1 (Design, Testing, and Integration)"
   ]
  },
  {
   "cell_type": "code",
   "execution_count": null,
   "metadata": {
    "Collapsed": "false"
   },
   "outputs": [],
   "source": []
  }
 ],
 "metadata": {
  "kernelspec": {
   "display_name": "Python 3",
   "language": "python",
   "name": "python3"
  },
  "language_info": {
   "codemirror_mode": {
    "name": "ipython",
    "version": 3
   },
   "file_extension": ".py",
   "mimetype": "text/x-python",
   "name": "python",
   "nbconvert_exporter": "python",
   "pygments_lexer": "ipython3",
   "version": "3.7.7"
  }
 },
 "nbformat": 4,
 "nbformat_minor": 4
}
